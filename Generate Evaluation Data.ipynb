{
 "cells": [
  {
   "cell_type": "code",
   "execution_count": 40,
   "metadata": {},
   "outputs": [],
   "source": [
    "import pandas as pd\n",
    "\n",
    "cols = [\n",
    "    'duration',\n",
    "    'protocol_type',\n",
    "    'service',\n",
    "    'flag',\n",
    "    'src_bytes',\n",
    "    'dst_bytes',\n",
    "    'land',\n",
    "    'wrong_fragment',\n",
    "    'urgent',\n",
    "    'hot',\n",
    "    'num_failed_logins',\n",
    "    'logged_in',\n",
    "    'num_compromised',\n",
    "    'root_shell',\n",
    "    'su_attempted',\n",
    "    'num_root',\n",
    "    'num_file_creations',\n",
    "    'num_shells',\n",
    "    'num_access_files',\n",
    "    'num_outbound_cmds',\n",
    "    'is_host_login',\n",
    "    'is_guest_login',\n",
    "    'count',\n",
    "    'srv_count',\n",
    "    'serror_rate',\n",
    "    'srv_serror_rate',\n",
    "    'rerror_rate',\n",
    "    'srv_rerror_rate',\n",
    "    'same_srv_rate',\n",
    "    'diff_srv_rate',\n",
    "    'srv_diff_host_rate',\n",
    "    'dst_host_count',\n",
    "    'dst_host_srv_count',\n",
    "    'dst_host_same_srv_rate',\n",
    "    'dst_host_diff_srv_rate',\n",
    "    'dst_host_same_src_port_rate',\n",
    "    'dst_host_srv_diff_host_rate',\n",
    "    'dst_host_serror_rate',\n",
    "    'dst_host_srv_serror_rate',\n",
    "    'dst_host_rerror_rate',\n",
    "    'dst_host_srv_rerror_rate',\n",
    "    'label'\n",
    "]\n",
    "\n",
    "df = pd.read_csv('../kddcup.data', names=cols, index_col=False)"
   ]
  },
  {
   "cell_type": "code",
   "execution_count": 65,
   "metadata": {},
   "outputs": [],
   "source": [
    "df.head()\n",
    "attacks = ['back.', 'buffer_overflow.', 'ftp_write.', 'guess_passwd.', 'imap.', 'ipsweep.', 'probe.', 'land.', 'loadmodule.', 'multihop.', 'neptune.', 'nmap.', 'probe.', 'perl.', 'phf.', 'pod.', 'portsweep.', 'probe.', 'rootkit.', 'satan.', 'probe.', 'smurf.', 'spy.', 'teardrop.', 'warezclient.', 'warezmaster.']\n",
    "data = df[(df['service'] == 'http') & (df['logged_in'] == 1)].copy()\n",
    "data = data[['duration', 'src_bytes', 'dst_bytes', 'label']].copy()\n",
    "data['label'] = data['label'] != 'normal.'"
   ]
  },
  {
   "cell_type": "code",
   "execution_count": 71,
   "metadata": {},
   "outputs": [],
   "source": [
    "from sklearn import preprocessing\n",
    "data['duration'] = (data['duration'] - data['duration'].mean()) / data['duration'].std()\n",
    "data['src_bytes'] = (data['src_bytes'] - data['src_bytes'].mean()) / data['src_bytes'].std()\n",
    "data['dst_bytes'] = (data['dst_bytes'] - data['dst_bytes'].mean()) / data['dst_bytes'].std()"
   ]
  },
  {
   "cell_type": "code",
   "execution_count": 73,
   "metadata": {},
   "outputs": [],
   "source": [
    "data.head()\n",
    "data.to_csv('evaluation_data.csv', index=False)"
   ]
  },
  {
   "cell_type": "code",
   "execution_count": null,
   "metadata": {},
   "outputs": [],
   "source": [
    "eval_data = pd.read_csv('evaluation_data.csv', names=['duration', 'src_bytes', 'dst_bytes', 'label'], index_col=False)\n",
    "output = []\n",
    "\n",
    "N = 5\n",
    "WINDOW_SIZE = 6000\n",
    "\n",
    "num_detected = []\n",
    "num_outliers = []\n",
    "\n",
    "for i in range(eval_data.shape[0], step=WINDOW_SIZE):\n",
    "    win_data = eval_data.iloc[i:i+WINDOW_SIZE,]\n",
    "    num_true_outlier = win_data[win_data['label'] == 1].shape[0]\n",
    "    o = min(N, num_true_outlier)\n",
    "    \n",
    "    num_true = 0\n",
    "    \n",
    "    for j in range(o):\n",
    "        if win_data.iloc[output[j], 'label'] == 1:\n",
    "            num_true += 1\n",
    "            \n",
    "    num_detected.append(num_true)\n",
    "    num_outliers.append(o)"
   ]
  }
 ],
 "metadata": {
  "kernelspec": {
   "display_name": "Python 3",
   "language": "python",
   "name": "python3"
  },
  "language_info": {
   "codemirror_mode": {
    "name": "ipython",
    "version": 3
   },
   "file_extension": ".py",
   "mimetype": "text/x-python",
   "name": "python",
   "nbconvert_exporter": "python",
   "pygments_lexer": "ipython3",
   "version": "3.6.7"
  }
 },
 "nbformat": 4,
 "nbformat_minor": 2
}
